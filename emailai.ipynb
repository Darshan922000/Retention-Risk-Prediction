{
 "cells": [
  {
   "cell_type": "code",
   "execution_count": 15,
   "metadata": {},
   "outputs": [],
   "source": [
    "\n",
    "from langchain_core.messages import SystemMessage, HumanMessage\n",
    "\n",
    "import sys\n",
    "import os\n",
    "from dotenv import load_dotenv\n",
    "load_dotenv()\n",
    "\n",
    "\n",
    "# os.environ[\"LANGSMITH_TRACING\"] = \"true\"\n",
    "# os.environ[\"LANGSMITH_API_KEY\"] = os.getenv(\"LANGSMITH_API_KEY\")\n",
    "# os.environ[\"LANGSMITH_PROJECT\"]=os.getenv(\"LANGSMITH_PROJECT\")\n",
    "os.environ[\"GROQ_API_KEY\"] = os.getenv(\"GROQ_API_KEY\")"
   ]
  },
  {
   "cell_type": "code",
   "execution_count": 16,
   "metadata": {},
   "outputs": [],
   "source": [
    "from langchain_groq import ChatGroq\n",
    "\n",
    "\n",
    "llm = ChatGroq(model=\"gemma2-9b-it\")\n",
    "\n",
    "emailai = llm\n"
   ]
  },
  {
   "cell_type": "code",
   "execution_count": 17,
   "metadata": {},
   "outputs": [],
   "source": [
    "email_instruction = \"\"\"\n",
    "Prompt:\n",
    "\n",
    "\"You are an AI communication specialist focused on client retention.\n",
    "Based on the provided client data and risk score, craft a personalized email with the following instructions:\n",
    "\n",
    "Subject Line: Friendly and relevant to the client’s situation.\n",
    "\n",
    "Body: Acknowledge the client’s relationship, express understanding of their needs, and proactively offer continued support or next steps.\n",
    "\n",
    "Tone Adjustment:\n",
    "\n",
    "If risk score is low, maintain a positive, appreciative tone.\n",
    "\n",
    "If risk score is medium, be reassuring and offer incentives or check-ins.\n",
    "\n",
    "If risk score is high, be highly supportive, express urgency in resolving concerns, and highlight benefits of staying connected.\n",
    "\n",
    "Input:\n",
    "{client_data}\n",
    "\n",
    "Output:\n",
    "Return only the subject and body of the email in markdown format, clearly separated.\"\n",
    "\"\"\"\n"
   ]
  },
  {
   "cell_type": "code",
   "execution_count": 18,
   "metadata": {},
   "outputs": [],
   "source": [
    "from typing import Any, Dict\n",
    "from typing_extensions import TypedDict\n",
    "\n",
    "\n",
    "# Graph state\n",
    "class State(TypedDict):\n",
    "    input_data: Dict[str, Any]  # user query\n",
    "    response: str  # response\n"
   ]
  },
  {
   "cell_type": "code",
   "execution_count": 19,
   "metadata": {},
   "outputs": [],
   "source": [
    "def email_ai(state: State):\n",
    "    \"\"\"AI agent that understand user query and generate string for news extraction\"\"\"\n",
    "    try:\n",
    "        response = emailai.invoke(\n",
    "            [\n",
    "            SystemMessage(content=email_instruction),\n",
    "            HumanMessage(\n",
    "                content=f\"Here is the user query: {state['input_data']}\"\n",
    "            ),\n",
    "        ]\n",
    "    )\n",
    "\n",
    "        return {\"response\": response}\n",
    "    except Exception as e:\n",
    "        raise Exception(e, sys)"
   ]
  },
  {
   "cell_type": "code",
   "execution_count": 20,
   "metadata": {},
   "outputs": [],
   "source": [
    "from langgraph.graph import StateGraph, START, END\n",
    "\n",
    "def email_generator():\n",
    "    # Build workflow\n",
    "    builder = StateGraph(State)\n",
    "\n",
    "    # Add the nodes\n",
    "    builder.add_node(\"email_ai\", email_ai)\n",
    "\n",
    "    # Add edges to connect nodes\n",
    "    builder.add_edge(START, \"email_ai\")\n",
    "    builder.add_edge(\"email_ai\", END)\n",
    "\n",
    "    # Compile the workflow\n",
    "    graph = builder.compile()\n",
    "\n",
    "    return graph\n",
    "\n",
    "email = email_generator()"
   ]
  },
  {
   "cell_type": "code",
   "execution_count": 21,
   "metadata": {},
   "outputs": [],
   "source": [
    "data = {\"Client Name\": \"john\",\n",
    "\"Policy Type\": \"car\",\n",
    "\"Policy Start Date\": \"2020-01-01\",\n",
    "\"Annual Premium\": 1000,\n",
    "\"Claims in Last 3 Years\": 0,\n",
    "\"Communication Frequency\": \"monthly\",\n",
    "\"Client Tenure (Years)\": 3,\n",
    "\"Industry\": \"finance\",\n",
    "\"Region\": \"New York\",\n",
    "\"Risk Score\": 1\n",
    "}"
   ]
  },
  {
   "cell_type": "code",
   "execution_count": 22,
   "metadata": {},
   "outputs": [],
   "source": [
    "result = email.invoke({\"input_data\": data})"
   ]
  },
  {
   "cell_type": "code",
   "execution_count": 23,
   "metadata": {},
   "outputs": [
    {
     "data": {
      "text/plain": [
       "\"Subject: Keeping Your Ride Protected, John!\\n\\nBody: \\n\\nHi John,\\n\\nWe wanted to reach out and say thank you for being a valued customer for the past 3 years! We appreciate your continued trust in us for your car insurance needs.\\n\\nAs your policy anniversary approaches, we want to make sure everything is still running smoothly.  Do you have any questions about your coverage or would you like to discuss any adjustments to your policy? We're here to help!\\n\\n\\n\\n\""
      ]
     },
     "execution_count": 23,
     "metadata": {},
     "output_type": "execute_result"
    }
   ],
   "source": [
    "result[\"response\"].content"
   ]
  },
  {
   "cell_type": "code",
   "execution_count": null,
   "metadata": {},
   "outputs": [],
   "source": []
  }
 ],
 "metadata": {
  "kernelspec": {
   "display_name": ".venv",
   "language": "python",
   "name": "python3"
  },
  "language_info": {
   "codemirror_mode": {
    "name": "ipython",
    "version": 3
   },
   "file_extension": ".py",
   "mimetype": "text/x-python",
   "name": "python",
   "nbconvert_exporter": "python",
   "pygments_lexer": "ipython3",
   "version": "3.12.0"
  }
 },
 "nbformat": 4,
 "nbformat_minor": 2
}
